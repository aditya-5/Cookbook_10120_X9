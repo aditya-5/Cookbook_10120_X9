{
 "metadata": {
  "language_info": {
   "codemirror_mode": {
    "name": "ipython",
    "version": 3
   },
   "file_extension": ".py",
   "mimetype": "text/x-python",
   "name": "python",
   "nbconvert_exporter": "python",
   "pygments_lexer": "ipython3",
   "version": "3.8.6-final"
  },
  "orig_nbformat": 2,
  "kernelspec": {
   "name": "python3",
   "display_name": "Python 3.8.6 32-bit",
   "metadata": {
    "interpreter": {
     "hash": "7e26377d4a0295b4ac09523422613b9e5ad2362061af871c7037d23b07465e47"
    }
   }
  }
 },
 "nbformat": 4,
 "nbformat_minor": 2,
 "cells": [
  {
   "cell_type": "code",
   "execution_count": 1,
   "metadata": {},
   "outputs": [],
   "source": [
    "import pandas as pd"
   ]
  },
  {
   "cell_type": "code",
   "execution_count": 2,
   "metadata": {},
   "outputs": [
    {
     "output_type": "execute_result",
     "data": {
      "text/plain": [
       "    ingredient code Ingredient description  Nutrient code  Nutrient value  \\\n",
       "0              1001         Butter, salted            203            0.85   \n",
       "1              1001         Butter, salted            204           81.11   \n",
       "2              1001         Butter, salted            205            0.06   \n",
       "3              1001         Butter, salted            208          717.00   \n",
       "4              1001         Butter, salted            221            0.00   \n",
       "5              1001         Butter, salted            255           16.17   \n",
       "6              1001         Butter, salted            262            0.00   \n",
       "7              1001         Butter, salted            263            0.00   \n",
       "8              1001         Butter, salted            269            0.06   \n",
       "9              1001         Butter, salted            291            0.00   \n",
       "10             1001         Butter, salted            301           24.00   \n",
       "11             1001         Butter, salted            303            0.02   \n",
       "12             1001         Butter, salted            304            2.00   \n",
       "13             1001         Butter, salted            305           24.00   \n",
       "14             1001         Butter, salted            306           24.00   \n",
       "15             1001         Butter, salted            307          643.00   \n",
       "16             1001         Butter, salted            309            0.09   \n",
       "17             1001         Butter, salted            312            0.00   \n",
       "18             1001         Butter, salted            317            1.00   \n",
       "19             1001         Butter, salted            319          671.00   \n",
       "\n",
       "   Nutrient value source  FDC ID Derivation code  SR AddMod year  \\\n",
       "0              SR Legacy  173410             NaN            1976   \n",
       "1              SR Legacy  173410             NaN            1976   \n",
       "2              SR Legacy  173410              NC            1976   \n",
       "3              SR Legacy  173410              NC            2010   \n",
       "4              SR Legacy  173410             NaN            1985   \n",
       "5              SR Legacy  173410               A            2002   \n",
       "6              SR Legacy  173410               Z            2001   \n",
       "7              SR Legacy  173410               Z            2001   \n",
       "8              SR Legacy  173410              NR            2002   \n",
       "9              SR Legacy  173410             NaN               0   \n",
       "10             SR Legacy  173410               A            2002   \n",
       "11             SR Legacy  173410               A            2003   \n",
       "12             SR Legacy  173410               A            2003   \n",
       "13             SR Legacy  173410               A            2003   \n",
       "14             SR Legacy  173410               A            2003   \n",
       "15             SR Legacy  173410              NR            2013   \n",
       "16             SR Legacy  173410               A            2003   \n",
       "17             SR Legacy  173410               A            2003   \n",
       "18             SR Legacy  173410               A            1997   \n",
       "19             SR Legacy  173410               T            2010   \n",
       "\n",
       "    Foundation year acquired  Start date    End date  \n",
       "0                          0  2017-01-01  2018-12-31  \n",
       "1                          0  2017-01-01  2018-12-31  \n",
       "2                          0  2017-01-01  2018-12-31  \n",
       "3                          0  2017-01-01  2018-12-31  \n",
       "4                          0  2017-01-01  2018-12-31  \n",
       "5                          0  2017-01-01  2018-12-31  \n",
       "6                          0  2017-01-01  2018-12-31  \n",
       "7                          0  2017-01-01  2018-12-31  \n",
       "8                          0  2017-01-01  2018-12-31  \n",
       "9                          0  2017-01-01  2018-12-31  \n",
       "10                         0  2017-01-01  2018-12-31  \n",
       "11                         0  2017-01-01  2018-12-31  \n",
       "12                         0  2017-01-01  2018-12-31  \n",
       "13                         0  2017-01-01  2018-12-31  \n",
       "14                         0  2017-01-01  2018-12-31  \n",
       "15                         0  2017-01-01  2018-12-31  \n",
       "16                         0  2017-01-01  2018-12-31  \n",
       "17                         0  2017-01-01  2018-12-31  \n",
       "18                         0  2017-01-01  2018-12-31  \n",
       "19                         0  2017-01-01  2018-12-31  "
      ],
      "text/html": "<div>\n<style scoped>\n    .dataframe tbody tr th:only-of-type {\n        vertical-align: middle;\n    }\n\n    .dataframe tbody tr th {\n        vertical-align: top;\n    }\n\n    .dataframe thead th {\n        text-align: right;\n    }\n</style>\n<table border=\"1\" class=\"dataframe\">\n  <thead>\n    <tr style=\"text-align: right;\">\n      <th></th>\n      <th>ingredient code</th>\n      <th>Ingredient description</th>\n      <th>Nutrient code</th>\n      <th>Nutrient value</th>\n      <th>Nutrient value source</th>\n      <th>FDC ID</th>\n      <th>Derivation code</th>\n      <th>SR AddMod year</th>\n      <th>Foundation year acquired</th>\n      <th>Start date</th>\n      <th>End date</th>\n    </tr>\n  </thead>\n  <tbody>\n    <tr>\n      <th>0</th>\n      <td>1001</td>\n      <td>Butter, salted</td>\n      <td>203</td>\n      <td>0.85</td>\n      <td>SR Legacy</td>\n      <td>173410</td>\n      <td>NaN</td>\n      <td>1976</td>\n      <td>0</td>\n      <td>2017-01-01</td>\n      <td>2018-12-31</td>\n    </tr>\n    <tr>\n      <th>1</th>\n      <td>1001</td>\n      <td>Butter, salted</td>\n      <td>204</td>\n      <td>81.11</td>\n      <td>SR Legacy</td>\n      <td>173410</td>\n      <td>NaN</td>\n      <td>1976</td>\n      <td>0</td>\n      <td>2017-01-01</td>\n      <td>2018-12-31</td>\n    </tr>\n    <tr>\n      <th>2</th>\n      <td>1001</td>\n      <td>Butter, salted</td>\n      <td>205</td>\n      <td>0.06</td>\n      <td>SR Legacy</td>\n      <td>173410</td>\n      <td>NC</td>\n      <td>1976</td>\n      <td>0</td>\n      <td>2017-01-01</td>\n      <td>2018-12-31</td>\n    </tr>\n    <tr>\n      <th>3</th>\n      <td>1001</td>\n      <td>Butter, salted</td>\n      <td>208</td>\n      <td>717.00</td>\n      <td>SR Legacy</td>\n      <td>173410</td>\n      <td>NC</td>\n      <td>2010</td>\n      <td>0</td>\n      <td>2017-01-01</td>\n      <td>2018-12-31</td>\n    </tr>\n    <tr>\n      <th>4</th>\n      <td>1001</td>\n      <td>Butter, salted</td>\n      <td>221</td>\n      <td>0.00</td>\n      <td>SR Legacy</td>\n      <td>173410</td>\n      <td>NaN</td>\n      <td>1985</td>\n      <td>0</td>\n      <td>2017-01-01</td>\n      <td>2018-12-31</td>\n    </tr>\n    <tr>\n      <th>5</th>\n      <td>1001</td>\n      <td>Butter, salted</td>\n      <td>255</td>\n      <td>16.17</td>\n      <td>SR Legacy</td>\n      <td>173410</td>\n      <td>A</td>\n      <td>2002</td>\n      <td>0</td>\n      <td>2017-01-01</td>\n      <td>2018-12-31</td>\n    </tr>\n    <tr>\n      <th>6</th>\n      <td>1001</td>\n      <td>Butter, salted</td>\n      <td>262</td>\n      <td>0.00</td>\n      <td>SR Legacy</td>\n      <td>173410</td>\n      <td>Z</td>\n      <td>2001</td>\n      <td>0</td>\n      <td>2017-01-01</td>\n      <td>2018-12-31</td>\n    </tr>\n    <tr>\n      <th>7</th>\n      <td>1001</td>\n      <td>Butter, salted</td>\n      <td>263</td>\n      <td>0.00</td>\n      <td>SR Legacy</td>\n      <td>173410</td>\n      <td>Z</td>\n      <td>2001</td>\n      <td>0</td>\n      <td>2017-01-01</td>\n      <td>2018-12-31</td>\n    </tr>\n    <tr>\n      <th>8</th>\n      <td>1001</td>\n      <td>Butter, salted</td>\n      <td>269</td>\n      <td>0.06</td>\n      <td>SR Legacy</td>\n      <td>173410</td>\n      <td>NR</td>\n      <td>2002</td>\n      <td>0</td>\n      <td>2017-01-01</td>\n      <td>2018-12-31</td>\n    </tr>\n    <tr>\n      <th>9</th>\n      <td>1001</td>\n      <td>Butter, salted</td>\n      <td>291</td>\n      <td>0.00</td>\n      <td>SR Legacy</td>\n      <td>173410</td>\n      <td>NaN</td>\n      <td>0</td>\n      <td>0</td>\n      <td>2017-01-01</td>\n      <td>2018-12-31</td>\n    </tr>\n    <tr>\n      <th>10</th>\n      <td>1001</td>\n      <td>Butter, salted</td>\n      <td>301</td>\n      <td>24.00</td>\n      <td>SR Legacy</td>\n      <td>173410</td>\n      <td>A</td>\n      <td>2002</td>\n      <td>0</td>\n      <td>2017-01-01</td>\n      <td>2018-12-31</td>\n    </tr>\n    <tr>\n      <th>11</th>\n      <td>1001</td>\n      <td>Butter, salted</td>\n      <td>303</td>\n      <td>0.02</td>\n      <td>SR Legacy</td>\n      <td>173410</td>\n      <td>A</td>\n      <td>2003</td>\n      <td>0</td>\n      <td>2017-01-01</td>\n      <td>2018-12-31</td>\n    </tr>\n    <tr>\n      <th>12</th>\n      <td>1001</td>\n      <td>Butter, salted</td>\n      <td>304</td>\n      <td>2.00</td>\n      <td>SR Legacy</td>\n      <td>173410</td>\n      <td>A</td>\n      <td>2003</td>\n      <td>0</td>\n      <td>2017-01-01</td>\n      <td>2018-12-31</td>\n    </tr>\n    <tr>\n      <th>13</th>\n      <td>1001</td>\n      <td>Butter, salted</td>\n      <td>305</td>\n      <td>24.00</td>\n      <td>SR Legacy</td>\n      <td>173410</td>\n      <td>A</td>\n      <td>2003</td>\n      <td>0</td>\n      <td>2017-01-01</td>\n      <td>2018-12-31</td>\n    </tr>\n    <tr>\n      <th>14</th>\n      <td>1001</td>\n      <td>Butter, salted</td>\n      <td>306</td>\n      <td>24.00</td>\n      <td>SR Legacy</td>\n      <td>173410</td>\n      <td>A</td>\n      <td>2003</td>\n      <td>0</td>\n      <td>2017-01-01</td>\n      <td>2018-12-31</td>\n    </tr>\n    <tr>\n      <th>15</th>\n      <td>1001</td>\n      <td>Butter, salted</td>\n      <td>307</td>\n      <td>643.00</td>\n      <td>SR Legacy</td>\n      <td>173410</td>\n      <td>NR</td>\n      <td>2013</td>\n      <td>0</td>\n      <td>2017-01-01</td>\n      <td>2018-12-31</td>\n    </tr>\n    <tr>\n      <th>16</th>\n      <td>1001</td>\n      <td>Butter, salted</td>\n      <td>309</td>\n      <td>0.09</td>\n      <td>SR Legacy</td>\n      <td>173410</td>\n      <td>A</td>\n      <td>2003</td>\n      <td>0</td>\n      <td>2017-01-01</td>\n      <td>2018-12-31</td>\n    </tr>\n    <tr>\n      <th>17</th>\n      <td>1001</td>\n      <td>Butter, salted</td>\n      <td>312</td>\n      <td>0.00</td>\n      <td>SR Legacy</td>\n      <td>173410</td>\n      <td>A</td>\n      <td>2003</td>\n      <td>0</td>\n      <td>2017-01-01</td>\n      <td>2018-12-31</td>\n    </tr>\n    <tr>\n      <th>18</th>\n      <td>1001</td>\n      <td>Butter, salted</td>\n      <td>317</td>\n      <td>1.00</td>\n      <td>SR Legacy</td>\n      <td>173410</td>\n      <td>A</td>\n      <td>1997</td>\n      <td>0</td>\n      <td>2017-01-01</td>\n      <td>2018-12-31</td>\n    </tr>\n    <tr>\n      <th>19</th>\n      <td>1001</td>\n      <td>Butter, salted</td>\n      <td>319</td>\n      <td>671.00</td>\n      <td>SR Legacy</td>\n      <td>173410</td>\n      <td>T</td>\n      <td>2010</td>\n      <td>0</td>\n      <td>2017-01-01</td>\n      <td>2018-12-31</td>\n    </tr>\n  </tbody>\n</table>\n</div>"
     },
     "metadata": {},
     "execution_count": 2
    }
   ],
   "source": [
    "# initial table\n",
    "\n",
    "ingredients = pd.read_csv(\"fndds_ingredient_nutrient_value.csv\")\n",
    "ingredients.head(20)"
   ]
  },
  {
   "cell_type": "code",
   "execution_count": 3,
   "metadata": {},
   "outputs": [
    {
     "output_type": "execute_result",
     "data": {
      "text/plain": [
       "      ingredient code                             Ingredient description  \\\n",
       "0                1001                                     Butter, salted   \n",
       "65               1002                         Butter, whipped, with salt   \n",
       "130              1003                              Butter oil, anhydrous   \n",
       "195              1004                                       Cheese, blue   \n",
       "260              1005                                      Cheese, brick   \n",
       "325              1006                                       Cheese, brie   \n",
       "390              1007                                  Cheese, camembert   \n",
       "455              1009  Cheese, cheddar (Includes foods for USDA's Foo...   \n",
       "520              1011                                      Cheese, colby   \n",
       "585              1012      Cheese, cottage, creamed, large or small curd   \n",
       "650              1014  Cheese, cottage, nonfat, uncreamed, dry, large...   \n",
       "715              1015                Cheese, cottage, lowfat, 2% milkfat   \n",
       "780              1016                Cheese, cottage, lowfat, 1% milkfat   \n",
       "845              1017                                      Cheese, cream   \n",
       "910              1019                                       Cheese, feta   \n",
       "975              1020                                    Cheese, fontina   \n",
       "1040             1022                                      Cheese, gouda   \n",
       "1105             1023                                    Cheese, gruyere   \n",
       "1170             1024                                  Cheese, limburger   \n",
       "1235             1025                                   Cheese, monterey   \n",
       "\n",
       "      Nutrient code  Nutrient value Nutrient value source  FDC ID  \\\n",
       "0               203            0.85             SR Legacy  173410   \n",
       "65              203            0.49             SR Legacy  173411   \n",
       "130             203            0.28             SR Legacy  173412   \n",
       "195             203           21.40             SR Legacy  172175   \n",
       "260             203           23.24             SR Legacy  172176   \n",
       "325             203           20.75             SR Legacy  172177   \n",
       "390             203           19.80             SR Legacy  172178   \n",
       "455             203           23.30            Foundation  328637   \n",
       "520             203           23.76             SR Legacy  173416   \n",
       "585             203           11.12             SR Legacy  172179   \n",
       "650             203           10.34             SR Legacy  172181   \n",
       "715             203           11.00            Foundation  328841   \n",
       "780             203           12.39             SR Legacy  173417   \n",
       "845             203            6.15             SR Legacy  173418   \n",
       "910             203           14.21             SR Legacy  173420   \n",
       "975             203           25.60             SR Legacy  170843   \n",
       "1040            203           24.94             SR Legacy  171241   \n",
       "1105            203           29.81             SR Legacy  171242   \n",
       "1170            203           20.05             SR Legacy  171243   \n",
       "1235            203           24.48             SR Legacy  170844   \n",
       "\n",
       "     Derivation code  SR AddMod year  Foundation year acquired  Start date  \\\n",
       "0                NaN            1976                         0  2017-01-01   \n",
       "65                 A            2015                         0  2017-01-01   \n",
       "130              NaN            1976                         0  2017-01-01   \n",
       "195              NaN            1976                         0  2017-01-01   \n",
       "260              NaN            1976                         0  2017-01-01   \n",
       "325              NaN            1976                         0  2017-01-01   \n",
       "390              NaN            1976                         0  2017-01-01   \n",
       "455               NC               0                         0  2017-01-01   \n",
       "520              NaN            1976                         0  2017-01-01   \n",
       "585                A            2008                         0  2017-01-01   \n",
       "650                A            2008                         0  2017-01-01   \n",
       "715               NC               0                         0  2017-01-01   \n",
       "780              NaN            1976                         0  2017-01-01   \n",
       "845                A            2015                         0  2017-01-01   \n",
       "910              NaN            1976                         0  2017-01-01   \n",
       "975              NaN            1976                         0  2017-01-01   \n",
       "1040             NaN            1976                         0  2017-01-01   \n",
       "1105             NaN            1976                         0  2017-01-01   \n",
       "1170             NaN            1976                         0  2017-01-01   \n",
       "1235             NaN            1976                         0  2017-01-01   \n",
       "\n",
       "        End date  \n",
       "0     2018-12-31  \n",
       "65    2018-12-31  \n",
       "130   2018-12-31  \n",
       "195   2018-12-31  \n",
       "260   2018-12-31  \n",
       "325   2018-12-31  \n",
       "390   2018-12-31  \n",
       "455   2018-12-31  \n",
       "520   2018-12-31  \n",
       "585   2018-12-31  \n",
       "650   2018-12-31  \n",
       "715   2018-12-31  \n",
       "780   2018-12-31  \n",
       "845   2018-12-31  \n",
       "910   2018-12-31  \n",
       "975   2018-12-31  \n",
       "1040  2018-12-31  \n",
       "1105  2018-12-31  \n",
       "1170  2018-12-31  \n",
       "1235  2018-12-31  "
      ],
      "text/html": "<div>\n<style scoped>\n    .dataframe tbody tr th:only-of-type {\n        vertical-align: middle;\n    }\n\n    .dataframe tbody tr th {\n        vertical-align: top;\n    }\n\n    .dataframe thead th {\n        text-align: right;\n    }\n</style>\n<table border=\"1\" class=\"dataframe\">\n  <thead>\n    <tr style=\"text-align: right;\">\n      <th></th>\n      <th>ingredient code</th>\n      <th>Ingredient description</th>\n      <th>Nutrient code</th>\n      <th>Nutrient value</th>\n      <th>Nutrient value source</th>\n      <th>FDC ID</th>\n      <th>Derivation code</th>\n      <th>SR AddMod year</th>\n      <th>Foundation year acquired</th>\n      <th>Start date</th>\n      <th>End date</th>\n    </tr>\n  </thead>\n  <tbody>\n    <tr>\n      <th>0</th>\n      <td>1001</td>\n      <td>Butter, salted</td>\n      <td>203</td>\n      <td>0.85</td>\n      <td>SR Legacy</td>\n      <td>173410</td>\n      <td>NaN</td>\n      <td>1976</td>\n      <td>0</td>\n      <td>2017-01-01</td>\n      <td>2018-12-31</td>\n    </tr>\n    <tr>\n      <th>65</th>\n      <td>1002</td>\n      <td>Butter, whipped, with salt</td>\n      <td>203</td>\n      <td>0.49</td>\n      <td>SR Legacy</td>\n      <td>173411</td>\n      <td>A</td>\n      <td>2015</td>\n      <td>0</td>\n      <td>2017-01-01</td>\n      <td>2018-12-31</td>\n    </tr>\n    <tr>\n      <th>130</th>\n      <td>1003</td>\n      <td>Butter oil, anhydrous</td>\n      <td>203</td>\n      <td>0.28</td>\n      <td>SR Legacy</td>\n      <td>173412</td>\n      <td>NaN</td>\n      <td>1976</td>\n      <td>0</td>\n      <td>2017-01-01</td>\n      <td>2018-12-31</td>\n    </tr>\n    <tr>\n      <th>195</th>\n      <td>1004</td>\n      <td>Cheese, blue</td>\n      <td>203</td>\n      <td>21.40</td>\n      <td>SR Legacy</td>\n      <td>172175</td>\n      <td>NaN</td>\n      <td>1976</td>\n      <td>0</td>\n      <td>2017-01-01</td>\n      <td>2018-12-31</td>\n    </tr>\n    <tr>\n      <th>260</th>\n      <td>1005</td>\n      <td>Cheese, brick</td>\n      <td>203</td>\n      <td>23.24</td>\n      <td>SR Legacy</td>\n      <td>172176</td>\n      <td>NaN</td>\n      <td>1976</td>\n      <td>0</td>\n      <td>2017-01-01</td>\n      <td>2018-12-31</td>\n    </tr>\n    <tr>\n      <th>325</th>\n      <td>1006</td>\n      <td>Cheese, brie</td>\n      <td>203</td>\n      <td>20.75</td>\n      <td>SR Legacy</td>\n      <td>172177</td>\n      <td>NaN</td>\n      <td>1976</td>\n      <td>0</td>\n      <td>2017-01-01</td>\n      <td>2018-12-31</td>\n    </tr>\n    <tr>\n      <th>390</th>\n      <td>1007</td>\n      <td>Cheese, camembert</td>\n      <td>203</td>\n      <td>19.80</td>\n      <td>SR Legacy</td>\n      <td>172178</td>\n      <td>NaN</td>\n      <td>1976</td>\n      <td>0</td>\n      <td>2017-01-01</td>\n      <td>2018-12-31</td>\n    </tr>\n    <tr>\n      <th>455</th>\n      <td>1009</td>\n      <td>Cheese, cheddar (Includes foods for USDA's Foo...</td>\n      <td>203</td>\n      <td>23.30</td>\n      <td>Foundation</td>\n      <td>328637</td>\n      <td>NC</td>\n      <td>0</td>\n      <td>0</td>\n      <td>2017-01-01</td>\n      <td>2018-12-31</td>\n    </tr>\n    <tr>\n      <th>520</th>\n      <td>1011</td>\n      <td>Cheese, colby</td>\n      <td>203</td>\n      <td>23.76</td>\n      <td>SR Legacy</td>\n      <td>173416</td>\n      <td>NaN</td>\n      <td>1976</td>\n      <td>0</td>\n      <td>2017-01-01</td>\n      <td>2018-12-31</td>\n    </tr>\n    <tr>\n      <th>585</th>\n      <td>1012</td>\n      <td>Cheese, cottage, creamed, large or small curd</td>\n      <td>203</td>\n      <td>11.12</td>\n      <td>SR Legacy</td>\n      <td>172179</td>\n      <td>A</td>\n      <td>2008</td>\n      <td>0</td>\n      <td>2017-01-01</td>\n      <td>2018-12-31</td>\n    </tr>\n    <tr>\n      <th>650</th>\n      <td>1014</td>\n      <td>Cheese, cottage, nonfat, uncreamed, dry, large...</td>\n      <td>203</td>\n      <td>10.34</td>\n      <td>SR Legacy</td>\n      <td>172181</td>\n      <td>A</td>\n      <td>2008</td>\n      <td>0</td>\n      <td>2017-01-01</td>\n      <td>2018-12-31</td>\n    </tr>\n    <tr>\n      <th>715</th>\n      <td>1015</td>\n      <td>Cheese, cottage, lowfat, 2% milkfat</td>\n      <td>203</td>\n      <td>11.00</td>\n      <td>Foundation</td>\n      <td>328841</td>\n      <td>NC</td>\n      <td>0</td>\n      <td>0</td>\n      <td>2017-01-01</td>\n      <td>2018-12-31</td>\n    </tr>\n    <tr>\n      <th>780</th>\n      <td>1016</td>\n      <td>Cheese, cottage, lowfat, 1% milkfat</td>\n      <td>203</td>\n      <td>12.39</td>\n      <td>SR Legacy</td>\n      <td>173417</td>\n      <td>NaN</td>\n      <td>1976</td>\n      <td>0</td>\n      <td>2017-01-01</td>\n      <td>2018-12-31</td>\n    </tr>\n    <tr>\n      <th>845</th>\n      <td>1017</td>\n      <td>Cheese, cream</td>\n      <td>203</td>\n      <td>6.15</td>\n      <td>SR Legacy</td>\n      <td>173418</td>\n      <td>A</td>\n      <td>2015</td>\n      <td>0</td>\n      <td>2017-01-01</td>\n      <td>2018-12-31</td>\n    </tr>\n    <tr>\n      <th>910</th>\n      <td>1019</td>\n      <td>Cheese, feta</td>\n      <td>203</td>\n      <td>14.21</td>\n      <td>SR Legacy</td>\n      <td>173420</td>\n      <td>NaN</td>\n      <td>1976</td>\n      <td>0</td>\n      <td>2017-01-01</td>\n      <td>2018-12-31</td>\n    </tr>\n    <tr>\n      <th>975</th>\n      <td>1020</td>\n      <td>Cheese, fontina</td>\n      <td>203</td>\n      <td>25.60</td>\n      <td>SR Legacy</td>\n      <td>170843</td>\n      <td>NaN</td>\n      <td>1976</td>\n      <td>0</td>\n      <td>2017-01-01</td>\n      <td>2018-12-31</td>\n    </tr>\n    <tr>\n      <th>1040</th>\n      <td>1022</td>\n      <td>Cheese, gouda</td>\n      <td>203</td>\n      <td>24.94</td>\n      <td>SR Legacy</td>\n      <td>171241</td>\n      <td>NaN</td>\n      <td>1976</td>\n      <td>0</td>\n      <td>2017-01-01</td>\n      <td>2018-12-31</td>\n    </tr>\n    <tr>\n      <th>1105</th>\n      <td>1023</td>\n      <td>Cheese, gruyere</td>\n      <td>203</td>\n      <td>29.81</td>\n      <td>SR Legacy</td>\n      <td>171242</td>\n      <td>NaN</td>\n      <td>1976</td>\n      <td>0</td>\n      <td>2017-01-01</td>\n      <td>2018-12-31</td>\n    </tr>\n    <tr>\n      <th>1170</th>\n      <td>1024</td>\n      <td>Cheese, limburger</td>\n      <td>203</td>\n      <td>20.05</td>\n      <td>SR Legacy</td>\n      <td>171243</td>\n      <td>NaN</td>\n      <td>1976</td>\n      <td>0</td>\n      <td>2017-01-01</td>\n      <td>2018-12-31</td>\n    </tr>\n    <tr>\n      <th>1235</th>\n      <td>1025</td>\n      <td>Cheese, monterey</td>\n      <td>203</td>\n      <td>24.48</td>\n      <td>SR Legacy</td>\n      <td>170844</td>\n      <td>NaN</td>\n      <td>1976</td>\n      <td>0</td>\n      <td>2017-01-01</td>\n      <td>2018-12-31</td>\n    </tr>\n  </tbody>\n</table>\n</div>"
     },
     "metadata": {},
     "execution_count": 3
    }
   ],
   "source": [
    "# duplicates removed\n",
    "\n",
    "ingredients = ingredients.drop_duplicates(['Ingredient description'])\n",
    "ingredients.head(20)"
   ]
  },
  {
   "cell_type": "code",
   "execution_count": 7,
   "metadata": {},
   "outputs": [
    {
     "output_type": "execute_result",
     "data": {
      "text/plain": [
       "     ingredient code      Ingredient description\n",
       "0               1001              Butter, salted\n",
       "65              1002  Butter, whipped, with salt\n",
       "130             1003       Butter oil, anhydrous\n",
       "195             1004                Cheese, blue\n",
       "260             1005               Cheese, brick"
      ],
      "text/html": "<div>\n<style scoped>\n    .dataframe tbody tr th:only-of-type {\n        vertical-align: middle;\n    }\n\n    .dataframe tbody tr th {\n        vertical-align: top;\n    }\n\n    .dataframe thead th {\n        text-align: right;\n    }\n</style>\n<table border=\"1\" class=\"dataframe\">\n  <thead>\n    <tr style=\"text-align: right;\">\n      <th></th>\n      <th>ingredient code</th>\n      <th>Ingredient description</th>\n    </tr>\n  </thead>\n  <tbody>\n    <tr>\n      <th>0</th>\n      <td>1001</td>\n      <td>Butter, salted</td>\n    </tr>\n    <tr>\n      <th>65</th>\n      <td>1002</td>\n      <td>Butter, whipped, with salt</td>\n    </tr>\n    <tr>\n      <th>130</th>\n      <td>1003</td>\n      <td>Butter oil, anhydrous</td>\n    </tr>\n    <tr>\n      <th>195</th>\n      <td>1004</td>\n      <td>Cheese, blue</td>\n    </tr>\n    <tr>\n      <th>260</th>\n      <td>1005</td>\n      <td>Cheese, brick</td>\n    </tr>\n  </tbody>\n</table>\n</div>"
     },
     "metadata": {},
     "execution_count": 7
    }
   ],
   "source": [
    "# unneeded columns\n",
    "\n",
    "del ingredients['Nutrient code']\n",
    "del ingredients['Nutrient value']\n",
    "del ingredients['Nutrient value source']\n",
    "del ingredients['FDC ID']\n",
    "del ingredients['Derivation code']\n",
    "del ingredients['SR AddMod year']\n",
    "del ingredients['Foundation year acquired']\n",
    "del ingredients['Start date']\n",
    "del ingredients['End date']\n",
    "ingredients.head()"
   ]
  },
  {
   "cell_type": "code",
   "execution_count": 50,
   "metadata": {
    "tags": []
   },
   "outputs": [
    {
     "output_type": "stream",
     "name": "stdout",
     "text": [
      "['Margarine-like', 'Shortening', 'Dressing', 'Mayonnaise', 'Chicken', 'Duck', 'Goose', 'Turkey', 'Chicken patty', 'Ostrich', 'Turkey from whole', 'Soup', \"CAMPBELL'S\", 'Sauce', 'Gravy', 'Split pea soup', 'Split pea with ham soup', 'Fish broth', 'Blood sausage', 'Bologna', 'Bratwurst', 'Braunschweiger (a liver sausage)', 'Frankfurter', 'Ham', 'Ham salad spread', 'Headcheese', 'Knackwurst', 'Roast beef', 'Mortadella', 'Pate']\n"
     ]
    }
   ],
   "source": [
    "# unneeded ingredients e.g. beef 10% fat vs beef 15% fat\n",
    "\n",
    "names = []\n",
    "\n",
    "for name in ingredients['Ingredient description']:\n",
    "    name = name.split(', ')[0]\n",
    "    if name not in names:\n",
    "        names.append(name)\n",
    "\n",
    "print(names[50:80])\n",
    "# ingredients.head(20)"
   ]
  },
  {
   "cell_type": "code",
   "execution_count": 44,
   "metadata": {},
   "outputs": [],
   "source": [
    "with open(\"ingredients_sql.txt\", \"w\") as f:\n",
    "    for ingredient in names:\n",
    "        f.write(ingredient + \"\\n\")"
   ]
  },
  {
   "cell_type": "code",
   "execution_count": 48,
   "metadata": {},
   "outputs": [],
   "source": [
    "# last comma should be manually turned into a ;\n",
    "# a few apostrophes also need to be manually escaped because I'm too lazy for it\n",
    "\n",
    "with open(\"ingredients_sql.txt\", \"w\") as f:\n",
    "    s = \"INSERT INTO INGREDIENTS (name) VALUES \"\n",
    "    f.write(s)\n",
    "    for ingredient in names:\n",
    "        s = f\"('{ingredient}'), \"\n",
    "        f.write(s)"
   ]
  }
 ]
}